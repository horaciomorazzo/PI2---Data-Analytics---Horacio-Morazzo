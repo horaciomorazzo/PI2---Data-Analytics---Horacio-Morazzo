{
 "cells": [
  {
   "cell_type": "code",
   "execution_count": 1,
   "metadata": {},
   "outputs": [],
   "source": [
    "import pandas as pd\n",
    "import warnings\n",
    "import numpy as np\n",
    "import datetime\n",
    "\n",
    "pd.options.display.max_columns = None\n",
    "warnings.filterwarnings('ignore')\n",
    "\n",
    "# Armo tabla para calcular el primer KPI\n",
    "\n",
    "# Leo el dataframe\n",
    "df = pd.read_csv('Tablas/df_nuevo.csv')\n",
    "\n",
    "# Convierto la columna 'FECHA_x' en un índice de tipo datetime\n",
    "df = df.set_index(pd.to_datetime(df['FECHA_x']))\n",
    "\n",
    "# # Reorganizamos los datos por mes y sumamos la columna 'N_VICTIMAS'\n",
    "df_by_month = df.resample('M')['N_VICTIMAS'].sum()\n",
    "\n",
    "\n",
    "# Convertimos el resultado en un dataframe con el índice como una columna\n",
    "df_by_month = df_by_month.reset_index()\n",
    "\n",
    "# Agregamos una columna con la tasa de homicidios\n",
    "\n",
    "pt = 3121707 # Población total de CABA según último censo (Año 2022)\n",
    "\n",
    "# Aplicamos fórmula para calcular tasa a la columna 'N_VICTIMAS'\n",
    "\n",
    "df_by_month ['Tasa'] = df_by_month ['N_VICTIMAS'].apply(lambda x: (x * 100000) / pt)\n",
    "\n",
    "df_by_month.rename(columns={'FECHA_x': 'Fecha', 'N_VICTIMAS': 'Victimas'}, inplace=True)\n",
    "\n",
    "df_by_month.to_csv('Tablas/KPI_1.csv')\n"
   ]
  },
  {
   "cell_type": "code",
   "execution_count": null,
   "metadata": {},
   "outputs": [],
   "source": [
    "# Armo tabla para calcular segundo KPI\n",
    "\n",
    "df = pd.read_csv('Tablas/df_nuevo.csv')\n",
    "df1 = df[['N_VICTIMAS', 'FECHA_x', 'VICTIMA_x']]\n",
    "\n",
    "# Me quedo con aquellos registros donde la víctima se desplace en una moto\n",
    "\n",
    "df2 = df1[df1['VICTIMA_x'] == 'MOTO']\n",
    "df3 = df2.groupby('FECHA_x')['N_VICTIMAS'].sum()\n",
    "\n",
    "\n",
    "\n",
    "# Grabamos el archivo para utilizarlo en PBI\n",
    "\n",
    "df3.to_excel('Tablas/KPI2.xlsx')\n"
   ]
  },
  {
   "cell_type": "code",
   "execution_count": 32,
   "metadata": {},
   "outputs": [],
   "source": [
    "# Armo tabla para calcular tercer KPI\n",
    "\n",
    "df = pd.read_csv('Tablas/df_nuevo.csv')\n",
    "# Me quedo con las fechas, nro. de víctimas, víctimas y acusados\n",
    "df1 = df[['N_VICTIMAS', 'FECHA_x', 'VICTIMA_x', 'ACUSADO']]\n",
    "# Me quedo con aquellos registros donde las víctimas son peatones y los acusados son transportes públicos de pasajeros\n",
    "df2 = df1[(df1['VICTIMA_x'] == 'PEATON') & (df1['ACUSADO'] == 'PASAJEROS')] \n",
    "# Me quedo con las columnas 'N_VICTIMAS' y 'FECHA_x'\n",
    "df3 = df2[['N_VICTIMAS', 'FECHA_x']]\n",
    "df4 = df3.groupby('FECHA_x')['N_VICTIMAS'].sum()\n",
    "# Lo guardo\n",
    "df4.to_excel('Tablas/KPI3.xlsx')\n"
   ]
  }
 ],
 "metadata": {
  "kernelspec": {
   "display_name": "Python 3",
   "language": "python",
   "name": "python3"
  },
  "language_info": {
   "codemirror_mode": {
    "name": "ipython",
    "version": 3
   },
   "file_extension": ".py",
   "mimetype": "text/x-python",
   "name": "python",
   "nbconvert_exporter": "python",
   "pygments_lexer": "ipython3",
   "version": "3.11.6"
  }
 },
 "nbformat": 4,
 "nbformat_minor": 2
}
